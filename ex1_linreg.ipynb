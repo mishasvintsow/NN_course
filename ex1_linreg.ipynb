{
 "cells": [
  {
   "cell_type": "markdown",
   "metadata": {},
   "source": [
    "# Пример 1. Однопараметрическая линейная регрессия"
   ]
  },
  {
   "cell_type": "code",
   "execution_count": 18,
   "metadata": {},
   "outputs": [],
   "source": [
    "from tensorflow import keras\n",
    "from tensorflow.keras import layers\n",
    "\n",
    "from numpy.random import normal as ND\n",
    "import matplotlib.pyplot as plt\n",
    "import numpy as np"
   ]
  },
  {
   "cell_type": "markdown",
   "metadata": {},
   "source": [
    "## Подготовка данных"
   ]
  },
  {
   "cell_type": "code",
   "execution_count": 19,
   "metadata": {},
   "outputs": [
    {
     "data": {
      "text/plain": [
       "<matplotlib.collections.PathCollection at 0x7ff7b82ae748>"
      ]
     },
     "execution_count": 19,
     "metadata": {},
     "output_type": "execute_result"
    },
    {
     "data": {
      "image/png": "[encoded data removed]",
      "text/plain": [
       "<Figure size 432x288 with 1 Axes>"
      ]
     },
     "metadata": {
      "needs_background": "light"
     },
     "output_type": "display_data"
    }
   ],
   "source": [
    "a = 0.3\n",
    "b = -0.7\n",
    "x_data = [ND(0,0.4) for _ in range(100)]\n",
    "y_data = [a*x+b+ND(0,0.1) for x in x_data]\n",
    "x_init = np.linspace(-2,2)\n",
    "y_init = [a*x+b for x in x_init]\n",
    "\n",
    "plt.plot(x_init, y_init)\n",
    "plt.scatter(x_data, y_data)"
   ]
  },
  {
   "cell_type": "markdown",
   "metadata": {},
   "source": [
    "## Создание модели"
   ]
  },
  {
   "cell_type": "code",
   "execution_count": 20,
   "metadata": {},
   "outputs": [],
   "source": [
    "def model_builder():\n",
    "    model = keras.Sequential([\n",
    "        layers.Dense(1, activation='linear', input_shape = (1,))\n",
    "    ])\n",
    "    \n",
    "    optimizer = keras.optimizers.SGD()\n",
    "    \n",
    "    model.compile(loss = 'mse',\n",
    "                  optimizer = optimizer)\n",
    "    return model"
   ]
  },
  {
   "cell_type": "code",
   "execution_count": 21,
   "metadata": {},
   "outputs": [
    {
     "name": "stdout",
     "output_type": "stream",
     "text": [
      "Model: \"sequential_2\"\n",
      "_________________________________________________________________\n",
      "Layer (type)                 Output Shape              Param #   \n",
      "=================================================================\n",
      "dense_2 (Dense)              (None, 1)                 2         \n",
      "=================================================================\n",
      "Total params: 2\n",
      "Trainable params: 2\n",
      "Non-trainable params: 0\n",
      "_________________________________________________________________\n"
     ]
    }
   ],
   "source": [
    "model = model_builder()\n",
    "model.summary()"
   ]
  },
  {
   "cell_type": "markdown",
   "metadata": {},
   "source": [
    "## Обучение"
   ]
  },
  {
   "cell_type": "code",
   "execution_count": 23,
   "metadata": {},
   "outputs": [],
   "source": [
    "model = model_builder()\n",
    "EPOCHS = 100"
   ]
  },
  {
   "cell_type": "code",
   "execution_count": 24,
   "metadata": {},
   "outputs": [],
   "source": [
    "history = model.fit(\n",
    "  x_data, y_data,\n",
    "  epochs=EPOCHS, verbose=0)"
   ]
  },
  {
   "cell_type": "code",
   "execution_count": 25,
   "metadata": {},
   "outputs": [
    {
     "data": {
      "text/plain": [
       "{'validation_data': None,\n",
       " 'model': <tensorflow.python.keras.engine.sequential.Sequential at 0x7ff7b80500b8>,\n",
       " '_chief_worker_only': None,\n",
       " '_supports_tf_logs': False,\n",
       " 'history': {'loss': [0.4754180908203125,\n",
       "   0.40591904520988464,\n",
       "   0.3443174362182617,\n",
       "   0.29499807953834534,\n",
       "   0.2533373534679413,\n",
       "   0.2171250581741333,\n",
       "   0.1858888566493988,\n",
       "   0.15968868136405945,\n",
       "   0.13949352502822876,\n",
       "   0.12127197533845901,\n",
       "   0.10469210892915726,\n",
       "   0.09084894508123398,\n",
       "   0.07863841950893402,\n",
       "   0.06868162006139755,\n",
       "   0.059527136385440826,\n",
       "   0.05192384123802185,\n",
       "   0.04604998975992203,\n",
       "   0.04128408804535866,\n",
       "   0.03693157061934471,\n",
       "   0.033241234719753265,\n",
       "   0.0301230289041996,\n",
       "   0.02733658067882061,\n",
       "   0.025214826688170433,\n",
       "   0.02335336245596409,\n",
       "   0.021625392138957977,\n",
       "   0.020319927483797073,\n",
       "   0.01899656467139721,\n",
       "   0.018042651936411858,\n",
       "   0.01686560921370983,\n",
       "   0.015952466055750847,\n",
       "   0.01517190970480442,\n",
       "   0.014743946492671967,\n",
       "   0.01432779710739851,\n",
       "   0.013839186169207096,\n",
       "   0.013523658737540245,\n",
       "   0.013127977959811687,\n",
       "   0.012798598036170006,\n",
       "   0.012611392885446548,\n",
       "   0.012509259395301342,\n",
       "   0.012295179069042206,\n",
       "   0.012065020389854908,\n",
       "   0.011887883767485619,\n",
       "   0.011700362898409367,\n",
       "   0.011583945713937283,\n",
       "   0.011434389278292656,\n",
       "   0.011339088901877403,\n",
       "   0.011228416115045547,\n",
       "   0.011142999865114689,\n",
       "   0.011091896332800388,\n",
       "   0.011018287390470505,\n",
       "   0.01099745649844408,\n",
       "   0.010932482779026031,\n",
       "   0.010871333070099354,\n",
       "   0.010844539850950241,\n",
       "   0.01078374870121479,\n",
       "   0.010728856548666954,\n",
       "   0.010704281739890575,\n",
       "   0.010656796395778656,\n",
       "   0.010645798407495022,\n",
       "   0.010634067468345165,\n",
       "   0.010576303116977215,\n",
       "   0.010551439598202705,\n",
       "   0.010507180355489254,\n",
       "   0.010481965728104115,\n",
       "   0.010463541373610497,\n",
       "   0.010433615185320377,\n",
       "   0.010391942225396633,\n",
       "   0.010361178778111935,\n",
       "   0.010340212844312191,\n",
       "   0.010317490436136723,\n",
       "   0.010301097296178341,\n",
       "   0.010281008668243885,\n",
       "   0.010274768806993961,\n",
       "   0.01027787197381258,\n",
       "   0.010271710343658924,\n",
       "   0.010239831171929836,\n",
       "   0.010218676179647446,\n",
       "   0.010230159386992455,\n",
       "   0.010199206881225109,\n",
       "   0.01015998050570488,\n",
       "   0.010151036083698273,\n",
       "   0.010127387940883636,\n",
       "   0.010107937268912792,\n",
       "   0.010089274495840073,\n",
       "   0.010085047222673893,\n",
       "   0.010066104121506214,\n",
       "   0.010046783834695816,\n",
       "   0.010034012608230114,\n",
       "   0.010025675408542156,\n",
       "   0.010019035078585148,\n",
       "   0.01000972744077444,\n",
       "   0.01001825463026762,\n",
       "   0.010005172342061996,\n",
       "   0.00999893993139267,\n",
       "   0.009974056854844093,\n",
       "   0.00996612198650837,\n",
       "   0.009960162453353405,\n",
       "   0.009953940287232399,\n",
       "   0.009936710819602013,\n",
       "   0.00991760566830635]},\n",
       " 'params': {'verbose': 0, 'epochs': 100, 'steps': 4},\n",
       " 'epoch': [0,\n",
       "  1,\n",
       "  2,\n",
       "  3,\n",
       "  4,\n",
       "  5,\n",
       "  6,\n",
       "  7,\n",
       "  8,\n",
       "  9,\n",
       "  10,\n",
       "  11,\n",
       "  12,\n",
       "  13,\n",
       "  14,\n",
       "  15,\n",
       "  16,\n",
       "  17,\n",
       "  18,\n",
       "  19,\n",
       "  20,\n",
       "  21,\n",
       "  22,\n",
       "  23,\n",
       "  24,\n",
       "  25,\n",
       "  26,\n",
       "  27,\n",
       "  28,\n",
       "  29,\n",
       "  30,\n",
       "  31,\n",
       "  32,\n",
       "  33,\n",
       "  34,\n",
       "  35,\n",
       "  36,\n",
       "  37,\n",
       "  38,\n",
       "  39,\n",
       "  40,\n",
       "  41,\n",
       "  42,\n",
       "  43,\n",
       "  44,\n",
       "  45,\n",
       "  46,\n",
       "  47,\n",
       "  48,\n",
       "  49,\n",
       "  50,\n",
       "  51,\n",
       "  52,\n",
       "  53,\n",
       "  54,\n",
       "  55,\n",
       "  56,\n",
       "  57,\n",
       "  58,\n",
       "  59,\n",
       "  60,\n",
       "  61,\n",
       "  62,\n",
       "  63,\n",
       "  64,\n",
       "  65,\n",
       "  66,\n",
       "  67,\n",
       "  68,\n",
       "  69,\n",
       "  70,\n",
       "  71,\n",
       "  72,\n",
       "  73,\n",
       "  74,\n",
       "  75,\n",
       "  76,\n",
       "  77,\n",
       "  78,\n",
       "  79,\n",
       "  80,\n",
       "  81,\n",
       "  82,\n",
       "  83,\n",
       "  84,\n",
       "  85,\n",
       "  86,\n",
       "  87,\n",
       "  88,\n",
       "  89,\n",
       "  90,\n",
       "  91,\n",
       "  92,\n",
       "  93,\n",
       "  94,\n",
       "  95,\n",
       "  96,\n",
       "  97,\n",
       "  98,\n",
       "  99]}"
      ]
     },
     "execution_count": 25,
     "metadata": {},
     "output_type": "execute_result"
    }
   ],
   "source": [
    "history.__dict__"
   ]
  },
  {
   "cell_type": "code",
   "execution_count": 26,
   "metadata": {},
   "outputs": [
    {
     "data": {
      "text/plain": [
       "\u001b[0;31mSignature:\u001b[0m       \u001b[0mhistory\u001b[0m\u001b[0;34m.\u001b[0m\u001b[0mmodel\u001b[0m\u001b[0;34m(\u001b[0m\u001b[0;34m*\u001b[0m\u001b[0margs\u001b[0m\u001b[0;34m,\u001b[0m \u001b[0;34m**\u001b[0m\u001b[0mkwargs\u001b[0m\u001b[0;34m)\u001b[0m\u001b[0;34m\u001b[0m\u001b[0;34m\u001b[0m\u001b[0m\n",
       "\u001b[0;31mType:\u001b[0m           Sequential\n",
       "\u001b[0;31mString form:\u001b[0m    <tensorflow.python.keras.engine.sequential.Sequential object at 0x7ff7b80500b8>\n",
       "\u001b[0;31mFile:\u001b[0m           ~/.local/lib/python3.6/site-packages/tensorflow/python/keras/engine/sequential.py\n",
       "\u001b[0;31mDocstring:\u001b[0m     \n",
       "`Sequential` groups a linear stack of layers into a `tf.keras.Model`.\n",
       "\n",
       "`Sequential` provides training and inference features on this model.\n",
       "\n",
       "Examples:\n",
       "\n",
       ">>> # Optionally, the first layer can receive an `input_shape` argument:\n",
       ">>> model = tf.keras.Sequential()\n",
       ">>> model.add(tf.keras.layers.Dense(8, input_shape=(16,)))\n",
       ">>> # Afterwards, we do automatic shape inference:\n",
       ">>> model.add(tf.keras.layers.Dense(4))\n",
       "\n",
       ">>> # This is identical to the following:\n",
       ">>> model = tf.keras.Sequential()\n",
       ">>> model.add(tf.keras.Input(shape=(16,)))\n",
       ">>> model.add(tf.keras.layers.Dense(8))\n",
       "\n",
       ">>> # Note that you can also omit the `input_shape` argument.\n",
       ">>> # In that case the model doesn't have any weights until the first call\n",
       ">>> # to a training/evaluation method (since it isn't yet built):\n",
       ">>> model = tf.keras.Sequential()\n",
       ">>> model.add(tf.keras.layers.Dense(8))\n",
       ">>> model.add(tf.keras.layers.Dense(4))\n",
       ">>> # model.weights not created yet\n",
       "\n",
       ">>> # Whereas if you specify the input shape, the model gets built\n",
       ">>> # continuously as you are adding layers:\n",
       ">>> model = tf.keras.Sequential()\n",
       ">>> model.add(tf.keras.layers.Dense(8, input_shape=(16,)))\n",
       ">>> model.add(tf.keras.layers.Dense(4))\n",
       ">>> len(model.weights)\n",
       "4\n",
       "\n",
       ">>> # When using the delayed-build pattern (no input shape specified), you can\n",
       ">>> # choose to manually build your model by calling\n",
       ">>> # `build(batch_input_shape)`:\n",
       ">>> model = tf.keras.Sequential()\n",
       ">>> model.add(tf.keras.layers.Dense(8))\n",
       ">>> model.add(tf.keras.layers.Dense(4))\n",
       ">>> model.build((None, 16))\n",
       ">>> len(model.weights)\n",
       "4\n",
       "\n",
       "```python\n",
       "# Note that when using the delayed-build pattern (no input shape specified),\n",
       "# the model gets built the first time you call `fit`, `eval`, or `predict`,\n",
       "# or the first time you call the model on some input data.\n",
       "model = tf.keras.Sequential()\n",
       "model.add(tf.keras.layers.Dense(8))\n",
       "model.add(tf.keras.layers.Dense(1))\n",
       "model.compile(optimizer='sgd', loss='mse')\n",
       "# This builds the model for the first time:\n",
       "model.fit(x, y, batch_size=32, epochs=10)\n",
       "```\n",
       "\u001b[0;31mInit docstring:\u001b[0m\n",
       "Creates a `Sequential` model instance.\n",
       "\n",
       "Args:\n",
       "  layers: Optional list of layers to add to the model.\n",
       "  name: Optional name for the model.\n",
       "\u001b[0;31mCall docstring:\u001b[0m\n",
       "Wraps `call`, applying pre- and post-processing steps.\n",
       "\n",
       "Arguments:\n",
       "  *args: Positional arguments to be passed to `self.call`.\n",
       "  **kwargs: Keyword arguments to be passed to `self.call`.\n",
       "\n",
       "Returns:\n",
       "  Output tensor(s).\n",
       "\n",
       "Note:\n",
       "  - The following optional keyword arguments are reserved for specific uses:\n",
       "    * `training`: Boolean scalar tensor of Python boolean indicating\n",
       "      whether the `call` is meant for training or inference.\n",
       "    * `mask`: Boolean input mask.\n",
       "  - If the layer's `call` method takes a `mask` argument (as some Keras\n",
       "    layers do), its default value will be set to the mask generated\n",
       "    for `inputs` by the previous layer (if `input` did come from\n",
       "    a layer that generated a corresponding mask, i.e. if it came from\n",
       "    a Keras layer with masking support.\n",
       "\n",
       "Raises:\n",
       "  ValueError: if the layer's `call` method returns None (an invalid value).\n",
       "  RuntimeError: if `super().__init__()` was not called in the constructor.\n"
      ]
     },
     "metadata": {},
     "output_type": "display_data"
    }
   ],
   "source": [
    "? history.model"
   ]
  },
  {
   "cell_type": "code",
   "execution_count": 27,
   "metadata": {},
   "outputs": [
    {
     "data": {
      "text/plain": [
       "[<matplotlib.lines.Line2D at 0x7ff79c780668>]"
      ]
     },
     "execution_count": 27,
     "metadata": {},
     "output_type": "execute_result"
    },
    {
     "data": {
      "image/png": "[encoded data removed]",
      "text/plain": [
       "<Figure size 432x288 with 1 Axes>"
      ]
     },
     "metadata": {
      "needs_background": "light"
     },
     "output_type": "display_data"
    }
   ],
   "source": [
    "plt.plot(history.epoch, history.history['loss'])"
   ]
  },
  {
   "cell_type": "code",
   "execution_count": 28,
   "metadata": {},
   "outputs": [
    {
     "data": {
      "text/plain": [
       "[array([[0.23435794]], dtype=float32), array([-0.69782054], dtype=float32)]"
      ]
     },
     "execution_count": 28,
     "metadata": {},
     "output_type": "execute_result"
    }
   ],
   "source": [
    "model.get_weights()"
   ]
  },
  {
   "cell_type": "code",
   "execution_count": 29,
   "metadata": {},
   "outputs": [
    {
     "data": {
      "text/plain": [
       "<matplotlib.legend.Legend at 0x7ff79c70ad30>"
      ]
     },
     "execution_count": 29,
     "metadata": {},
     "output_type": "execute_result"
    },
    {
     "data": {
      "image/png": "[encoded data removed]",
      "text/plain": [
       "<Figure size 864x576 with 1 Axes>"
      ]
     },
     "metadata": {
      "needs_background": "light"
     },
     "output_type": "display_data"
    }
   ],
   "source": [
    "plt.figure(figsize = (12,8))\n",
    "plt.plot(x_init, model.predict(x_init), label = \"model\")\n",
    "plt.plot(x_init, y_init, label = \"init\")\n",
    "plt.scatter(x_data, y_data, label = 'data')\n",
    "plt.legend()"
   ]
  },
  {
   "cell_type": "code",
   "execution_count": null,
   "metadata": {},
   "outputs": [],
   "source": []
  }
 ],
 "metadata": {
  "kernelspec": {
   "display_name": "Python 3",
   "language": "python",
   "name": "python3"
  },
  "language_info": {
   "codemirror_mode": {
    "name": "ipython",
    "version": 3
   },
   "file_extension": ".py",
   "mimetype": "text/x-python",
   "name": "python",
   "nbconvert_exporter": "python",
   "pygments_lexer": "ipython3",
   "version": "3.6.9"
  }
 },
 "nbformat": 4,
 "nbformat_minor": 4
}
